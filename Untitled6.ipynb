{
  "nbformat": 4,
  "nbformat_minor": 0,
  "metadata": {
    "colab": {
      "provenance": [],
      "authorship_tag": "ABX9TyMyMFoxW2wBpoaXjlNe0yYy",
      "include_colab_link": true
    },
    "kernelspec": {
      "name": "python3",
      "display_name": "Python 3"
    },
    "language_info": {
      "name": "python"
    }
  },
  "cells": [
    {
      "cell_type": "markdown",
      "metadata": {
        "id": "view-in-github",
        "colab_type": "text"
      },
      "source": [
        "<a href=\"https://colab.research.google.com/github/Pollymr/sabores_de_cacau/blob/main/Untitled6.ipynb\" target=\"_parent\"><img src=\"https://colab.research.google.com/assets/colab-badge.svg\" alt=\"Open In Colab\"/></a>"
      ]
    },
    {
      "cell_type": "code",
      "execution_count": null,
      "metadata": {
        "id": "OW-hme2k3mmd"
      },
      "outputs": [],
      "source": [
        "import pandas as pd\n",
        "\n",
        "df = pd.read_csv('flavors_of_cacao.csv')\n",
        "\n",
        "print(df)\n"
      ]
    },
    {
      "cell_type": "code",
      "source": [
        "if 'Rating' in df.columns:\n",
        "\n",
        "    media_notas = df['Rating'].mean()\n",
        "    print(f'A média das notas é: {media_notas:.2f}')\n",
        "else:\n",
        "    print(\"A coluna 'Rating' não foi encontrada no arquivo CSV.\")\n",
        "\n",
        "\n"
      ],
      "metadata": {
        "colab": {
          "base_uri": "https://localhost:8080/"
        },
        "id": "smY7ZHbcERcY",
        "outputId": "96817138-7c46-4c9a-adcb-b6eaf42eff5d"
      },
      "execution_count": 2,
      "outputs": [
        {
          "output_type": "stream",
          "name": "stdout",
          "text": [
            "A média das notas é: 3.19\n"
          ]
        }
      ]
    },
    {
      "cell_type": "code",
      "source": [
        "\n",
        "if 'Rating' in df.columns:\n",
        "\n",
        "    media_por_estabelecimento = df.groupby(\"Company\")['Rating'].mean()\n",
        "    estabelecimento_maior_media = media_por_estabelecimento.idxmax()\n",
        "    maior_media = media_por_estabelecimento.max()\n",
        "    print(f'O estabelecimento com a maior média de notas é o {estabelecimento_maior_media}, com uma média de {maior_media:.2f}')\n",
        "else:\n",
        "    print(\"A coluna 'Rating' não foi encontrada no arquivo CSV.\")\n"
      ],
      "metadata": {
        "colab": {
          "base_uri": "https://localhost:8080/"
        },
        "id": "VQw_FrjTIP-r",
        "outputId": "0954bcdc-e10e-464c-f1cb-789332443534"
      },
      "execution_count": 5,
      "outputs": [
        {
          "output_type": "stream",
          "name": "stdout",
          "text": [
            "O estabelecimento com a maior média de notas é \"Tobago Estate (Pralus)\" com uma média de 4.00\n"
          ]
        }
      ]
    },
    {
      "cell_type": "code",
      "source": [
        "\n",
        "nova_linha= ['Cacau Show','São Paulo',171,2023,'100%', 'Brasil',4, 'forastero','Brazil']\n",
        "\n",
        "df.loc[len(df)] = nova_linha\n",
        "\n",
        "df.to_csv('sabores_de_cacau.csv', index=False)\n"
      ],
      "metadata": {
        "id": "yqKk-TYBmSF1"
      },
      "execution_count": 21,
      "outputs": []
    },
    {
      "cell_type": "code",
      "source": [
        "print(df)"
      ],
      "metadata": {
        "id": "Pm7QseA_rJUr"
      },
      "execution_count": null,
      "outputs": []
    }
  ]
}